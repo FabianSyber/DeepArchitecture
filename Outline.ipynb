{
 "cells": [
  {
   "cell_type": "code",
   "execution_count": 5,
   "metadata": {},
   "outputs": [
    {
     "name": "stdout",
     "output_type": "stream",
     "text": [
      "4194 images to outline\n",
      "done\n"
     ]
    }
   ],
   "source": [
    "import numpy as np\n",
    "import cv2 #this is the main openCV class, the python binding file should be in /pythonXX/Lib/site-packages\n",
    "from matplotlib import pyplot as plt\n",
    "import PIL.Image\n",
    "import glob\n",
    "import re\n",
    "import pathlib\n",
    "\n",
    "data_dir = pathlib.Path('E:/DataSets/cubicasa5kv1.1/')\n",
    "data_dir_str = 'E:/DataSets/cubicasa5kv1.1/'\n",
    "size = 512\n",
    "\n",
    "image_count = len(list(data_dir.glob('*/mask.png')))\n",
    "print(str(image_count) + ' images to outline')\n",
    "\n",
    "for file in data_dir.glob('*/mask.png'):\n",
    "    file = str(file)\n",
    "    file = file.replace('\\\\', '/')\n",
    "    res = re.findall(\"(\\w+)/mask.png\", file)\n",
    "    filename = res[0]\n",
    "    \n",
    "    gwash = cv2.imread(file) #import image\n",
    "    gwash = ~gwash\n",
    "    gwashBW = cv2.cvtColor(gwash, cv2.COLOR_BGR2GRAY) #change to grayscale\n",
    "\n",
    "    ret, thresh = cv2.threshold(gwashBW,127,255,0)\n",
    "    contours, hierarchy = cv2.findContours(thresh,cv2.RETR_TREE,cv2.CHAIN_APPROX_SIMPLE) #find contours with simple approximation\n",
    "\n",
    "    background = 255 * np.ones(shape=[size, size, 3], dtype=np.uint8)\n",
    "\n",
    "    img = cv2.drawContours(background, contours, -1, (0,0,0), 2)\n",
    "\n",
    "    im = PIL.Image.fromarray(img)\n",
    "    im.save(data_dir_str + str(filename) + '/outline.png')\n",
    "\n",
    "print(\"done\")\n"
   ]
  },
  {
   "cell_type": "code",
   "execution_count": null,
   "metadata": {},
   "outputs": [],
   "source": []
  },
  {
   "cell_type": "code",
   "execution_count": null,
   "metadata": {},
   "outputs": [],
   "source": []
  }
 ],
 "metadata": {
  "kernelspec": {
   "display_name": "Python 3",
   "language": "python",
   "name": "python3"
  },
  "language_info": {
   "codemirror_mode": {
    "name": "ipython",
    "version": 3
   },
   "file_extension": ".py",
   "mimetype": "text/x-python",
   "name": "python",
   "nbconvert_exporter": "python",
   "pygments_lexer": "ipython3",
   "version": "3.7.6"
  }
 },
 "nbformat": 4,
 "nbformat_minor": 2
}
