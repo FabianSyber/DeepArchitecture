{
 "cells": [
  {
   "cell_type": "code",
   "execution_count": 52,
   "metadata": {},
   "outputs": [
    {
     "name": "stdout",
     "output_type": "stream",
     "text": [
      "running\n",
      "done\n"
     ]
    }
   ],
   "source": [
    "import cv2\n",
    "import os\n",
    "import time\n",
    "import glob\n",
    "import numpy as np\n",
    "from scipy import misc\n",
    "import PIL.Image\n",
    "import io\n",
    "import array\n",
    "import re\n",
    "\n",
    "print('running')\n",
    "data_folder = 'E:/DataSets/facadesModern/base/'\n",
    "save_folder = 'E:/DataSets/facadesModern/masked'\n",
    "\n",
    "for file in os.listdir(data_folder):\n",
    "    filename = os.fsdecode(file)\n",
    "    if filename.endswith(\".png\"): \n",
    "        img = os.path.join(data_folder, filename)\n",
    "        save_path = os.path.join(save_folder, filename)\n",
    "        \n",
    "        image = cv2.imread(img, 1)\n",
    "\n",
    "        # Read the image\n",
    "        height, width, channels = image.shape\n",
    "\n",
    "        # convert to hsv\n",
    "        hsv = cv2.cvtColor(image, cv2.COLOR_BGR2HSV)\n",
    "\n",
    "        # mask windows\n",
    "        lower = np.array([103, 150, 150])\n",
    "        upper = np.array([107, 255, 255])\n",
    "        mask = cv2.inRange(hsv, lower, upper)\n",
    "        \n",
    "        # mask bodies\n",
    "        lower = np.array([110, 252, 252])\n",
    "        upper = np.array([117, 255, 255])\n",
    "        mask2 = cv2.inRange(hsv, lower, upper)\n",
    "        \n",
    "        if(np.count_nonzero(mask2) != 0):\n",
    "            # Flattend indices for those two regions using the given labels\n",
    "            #idx = np.nonzero(mask2.ravel()==255)[0]\n",
    "\n",
    "            # Get the min, max indices for them. Use np.unravel_index to retrieve \n",
    "            # back row, col indices corresponding to original format of 2D input.\n",
    "            #idxs = [idx.min(), idx.max()]\n",
    "            #out = np.column_stack(np.unravel_index(idxs,mask2.shape))\n",
    "            \n",
    "            x1 = np.where(mask2)[1].max()\n",
    "            y1 = np.where(mask2)[0].max()\n",
    "            \n",
    "            x2 = np.where(mask2)[1].min()\n",
    "            y2 = np.where(mask2)[0].min()\n",
    "            \n",
    "            \n",
    "        plan = image.copy()\n",
    "        \n",
    "        # Make the masked areas uniform\n",
    "        plan[np.where(mask==0)] = (255, 0, 0)\n",
    "        cv2.rectangle(plan, (x1, y1), (x2, y2), (255, 48, 0), -1)\n",
    "        plan[np.where(mask!=0)] = (255, 85, 0)\n",
    "        \n",
    "        is_success, plan = cv2.imencode('.png', plan)\n",
    "\n",
    "        buf = io.BytesIO(plan)\n",
    "        buf.seek(0)\n",
    "\n",
    "        im_plan = PIL.Image.open(buf)\n",
    "\n",
    "        im_plan.save(save_path, 'PNG')\n",
    "\n",
    "print('done')"
   ]
  },
  {
   "cell_type": "code",
   "execution_count": null,
   "metadata": {},
   "outputs": [],
   "source": []
  }
 ],
 "metadata": {
  "kernelspec": {
   "display_name": "Python 3",
   "language": "python",
   "name": "python3"
  },
  "language_info": {
   "codemirror_mode": {
    "name": "ipython",
    "version": 3
   },
   "file_extension": ".py",
   "mimetype": "text/x-python",
   "name": "python",
   "nbconvert_exporter": "python",
   "pygments_lexer": "ipython3",
   "version": "3.7.6"
  }
 },
 "nbformat": 4,
 "nbformat_minor": 4
}
