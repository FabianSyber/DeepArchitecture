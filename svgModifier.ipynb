{
 "cells": [
  {
   "cell_type": "code",
   "execution_count": 4,
   "metadata": {
    "scrolled": true
   },
   "outputs": [
    {
     "name": "stdout",
     "output_type": "stream",
     "text": [
      "Running\n",
      "Done\n"
     ]
    }
   ],
   "source": [
    "from lxml import etree\n",
    "from xml.etree import ElementTree\n",
    "import glob\n",
    "import pathlib\n",
    "import shutil\n",
    "import os\n",
    "\n",
    "data_dir = pathlib.Path('E:/Tests/')\n",
    "\n",
    "print('Running')\n",
    "\n",
    "for file in data_dir.glob('*.svg'):\n",
    "    tree = etree.parse(open(file))\n",
    "\n",
    "    tree = etree.tostring(tree, pretty_print=True).decode()\n",
    "\n",
    "    tree = etree.fromstring(tree)\n",
    "\n",
    "    for bad in tree.xpath(\"//*[@id='NameLabel']\"):\n",
    "        bad.getparent().remove(bad)     # here I grab the parent of the element to call the remove directly on it\n",
    "\n",
    "    for bad in tree.xpath(\"//*[@id='DimensionMeasureLabel']\"):\n",
    "        bad.getparent().remove(bad)     # here I grab the parent of the element to call the remove directly on it\n",
    "\n",
    "    for bad in tree.xpath(\"//*[@id='FloorNumberLabel']\"):\n",
    "        bad.getparent().remove(bad)     # here I grab the parent of the element to call the remove directly on it\n",
    "\n",
    "    for bad in tree.xpath(\"//*[@id='FloorNumberLabel_1_']\"):\n",
    "        bad.getparent().remove(bad)     # here I grab the parent of the element to call the remove directly on it\n",
    "    \n",
    "    for bad in tree.xpath(\"//*[@id='NameLabel_8_']\"):\n",
    "        bad.getparent().remove(bad)     # here I grab the parent of the element to call the remove directly on it\n",
    "\n",
    "    for bad in tree.xpath(\"//*[@id='NameLabel_17_']\"):\n",
    "        bad.getparent().remove(bad)     # here I grab the parent of the element to call the remove directly on it\n",
    "\n",
    "    for bad in tree.xpath(\"//*[@id='NameLabel_19_']\"):\n",
    "        bad.getparent().remove(bad)     # here I grab the parent of the element to call the remove directly on it\n",
    "\n",
    "    for bad in tree.xpath(\"//*[@id='NameLabel_18_']\"):\n",
    "        bad.getparent().remove(bad)     # here I grab the parent of the element to call the remove directly on it\n",
    "\n",
    "        \n",
    "    tree = etree.tostring(tree, xml_declaration=True, pretty_print=True).decode()\n",
    "\n",
    "    tree = tree.replace('\"#0000ff\"', '\"#ffffff\"')\n",
    "    tree = tree.replace('style=\"display: none;\"', ' ') \n",
    "    \n",
    "    document = open(file, 'w')\n",
    "    document.write(tree)\n",
    "    document.close()\n",
    "    \n",
    "print('Done')"
   ]
  },
  {
   "cell_type": "code",
   "execution_count": null,
   "metadata": {},
   "outputs": [],
   "source": []
  },
  {
   "cell_type": "code",
   "execution_count": null,
   "metadata": {},
   "outputs": [],
   "source": []
  },
  {
   "cell_type": "code",
   "execution_count": null,
   "metadata": {},
   "outputs": [],
   "source": []
  },
  {
   "cell_type": "code",
   "execution_count": null,
   "metadata": {},
   "outputs": [],
   "source": []
  },
  {
   "cell_type": "code",
   "execution_count": null,
   "metadata": {},
   "outputs": [],
   "source": []
  }
 ],
 "metadata": {
  "kernelspec": {
   "display_name": "Python 3",
   "language": "python",
   "name": "python3"
  },
  "language_info": {
   "codemirror_mode": {
    "name": "ipython",
    "version": 3
   },
   "file_extension": ".py",
   "mimetype": "text/x-python",
   "name": "python",
   "nbconvert_exporter": "python",
   "pygments_lexer": "ipython3",
   "version": "3.7.3"
  }
 },
 "nbformat": 4,
 "nbformat_minor": 4
}
